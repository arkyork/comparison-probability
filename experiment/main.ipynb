{
 "cells": [
  {
   "cell_type": "code",
   "execution_count": null,
   "metadata": {},
   "outputs": [
    {
     "name": "stderr",
     "output_type": "stream",
     "text": [
      "The `load_in_4bit` and `load_in_8bit` arguments are deprecated and will be removed in the future versions. Please, pass a `BitsAndBytesConfig` object in `quantization_config` argument instead.\n"
     ]
    },
    {
     "data": {
      "application/vnd.jupyter.widget-view+json": {
       "model_id": "ba24603d6ebb46bfac5117f88a77218c",
       "version_major": 2,
       "version_minor": 0
      },
      "text/plain": [
       "Loading checkpoint shards:   0%|          | 0/4 [00:00<?, ?it/s]"
      ]
     },
     "metadata": {},
     "output_type": "display_data"
    }
   ],
   "source": [
    "from transformers import (\n",
    "    AutoModelForCausalLM,\n",
    "    AutoTokenizer,\n",
    ")\n",
    "new_model=\"meta-llama/Meta-Llama-3-8B\"\n",
    "tokenizer = AutoTokenizer.from_pretrained(new_model)\n",
    "model = AutoModelForCausalLM.from_pretrained(\n",
    "    new_model,\n",
    "    load_in_4bit=True,\n",
    "    device_map=\"auto\",\n",
    ")"
   ]
  },
  {
   "cell_type": "code",
   "execution_count": null,
   "metadata": {},
   "outputs": [],
   "source": []
  },
  {
   "cell_type": "code",
   "execution_count": null,
   "metadata": {},
   "outputs": [],
   "source": [
    "import torch.nn.functional as F\n",
    "import torch\n",
    "def log_prob(logits,ids):\n",
    "    ## DPOのlog_Pi.ipynbで動作を確認\n",
    "\n",
    "    \"\"\"\n",
    "        Args:\n",
    "        logits (torch.Tensor): シーケンスの logits (batch_size, seq_len, vocab_size)\n",
    "        ids (torch.Tensor): 選ばれたシーケンスのラベル IDs (batch_size, seq_len)\n",
    "    \"\"\"\n",
    "    # Chosen の log probabilities を計算\n",
    "    log_probs = F.log_softmax(logits, dim=-1)  # (batch_size, seq_len, vocab_size)\n",
    "    chosen_selected_log_probs = torch.gather(\n",
    "        log_probs, dim=-1, index=ids.unsqueeze(-1)  # (batch_size, seq_len, 1)\n",
    "    ).squeeze(-1)  # (batch_size, seq_len)\n",
    "    log_prob = chosen_selected_log_probs.sum(dim=-1)  # (batch_size,)\n",
    "    return log_prob"
   ]
  },
  {
   "cell_type": "code",
   "execution_count": null,
   "metadata": {},
   "outputs": [],
   "source": [
    "from datasets import load_dataset\n",
    "ds = load_dataset(\"HumanLLMs/Human-Like-DPO-Dataset\")\n"
   ]
  },
  {
   "cell_type": "code",
   "execution_count": null,
   "metadata": {},
   "outputs": [],
   "source": [
    "dataset = ds[\"train\"]"
   ]
  },
  {
   "cell_type": "code",
   "execution_count": null,
   "metadata": {},
   "outputs": [],
   "source": [
    "win_prob = 0\n",
    "for i in range(len(dataset)):\n",
    "    chosen_text=ds[\"train\"][i][\"prompt\"]+ds[\"train\"][i][\"chosen\"]\n",
    "    rejected_text=ds[\"train\"][i][\"prompt\"]+ds[\"train\"][i][\"rejected\"]\n",
    "    #WIN\n",
    "    chosen_input_ids = tokenizer.encode(chosen_text,return_tensors=\"pt\")\n",
    "    chosen_dist_logits = model(chosen_input_ids).logits\n",
    "    #LOSE\n",
    "    rejected_input_ids = tokenizer.encode(rejected_text,return_tensors=\"pt\")\n",
    "    rejected_dist_logits = model(rejected_input_ids).logits\n",
    "    #Logit\n",
    "    chosen_prob=log_prob(chosen_dist_logits,chosen_input_ids)\n",
    "    rejected_prob=log_prob(rejected_dist_logits,rejected_input_ids)\n",
    "    if chosen_prob > rejected_prob:\n",
    "        win_prob+=1\n"
   ]
  },
  {
   "cell_type": "code",
   "execution_count": null,
   "metadata": {},
   "outputs": [],
   "source": []
  },
  {
   "cell_type": "code",
   "execution_count": null,
   "metadata": {},
   "outputs": [],
   "source": []
  },
  {
   "cell_type": "code",
   "execution_count": null,
   "metadata": {},
   "outputs": [
    {
     "data": {
      "text/plain": [
       "tensor([-1145.], dtype=torch.float16, grad_fn=<SumBackward1>)"
      ]
     },
     "execution_count": 31,
     "metadata": {},
     "output_type": "execute_result"
    }
   ],
   "source": []
  },
  {
   "cell_type": "code",
   "execution_count": null,
   "metadata": {},
   "outputs": [],
   "source": []
  }
 ],
 "metadata": {
  "kernelspec": {
   "display_name": "ptorch",
   "language": "python",
   "name": "python3"
  },
  "language_info": {
   "codemirror_mode": {
    "name": "ipython",
    "version": 3
   },
   "file_extension": ".py",
   "mimetype": "text/x-python",
   "name": "python",
   "nbconvert_exporter": "python",
   "pygments_lexer": "ipython3",
   "version": "3.12.7"
  }
 },
 "nbformat": 4,
 "nbformat_minor": 2
}
